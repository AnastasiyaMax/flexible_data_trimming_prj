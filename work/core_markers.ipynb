{
  "nbformat": 4,
  "nbformat_minor": 0,
  "metadata": {
    "colab": {
      "name": "core_markers.ipynb",
      "provenance": [],
      "collapsed_sections": []
    },
    "kernelspec": {
      "name": "python3",
      "display_name": "Python 3"
    }
  },
  "cells": [
    {
      "cell_type": "code",
      "metadata": {
        "id": "vGT88Ed9OFpF"
      },
      "source": [
        "import pandas as pd\n",
        "import numpy as np\n",
        "import matplotlib.pyplot as plt"
      ],
      "execution_count": null,
      "outputs": []
    },
    {
      "cell_type": "code",
      "metadata": {
        "id": "7JWwc7R7jHLS",
        "colab": {
          "base_uri": "https://localhost:8080/"
        },
        "outputId": "b25f8dae-3f68-4c0e-dc9c-c1e40df08b6b"
      },
      "source": [
        "from google.colab import drive\n",
        "drive.mount('/content/drive')\n",
        "!ls \"/content/drive/My Drive/FlowPS/data\""
      ],
      "execution_count": null,
      "outputs": [
        {
          "output_type": "stream",
          "text": [
            "Mounted at /content/drive\n",
            "GSE18728.csv  GSE25066.csv  GSE50948.csv  GSE9782.csv\t\t  TCGA_LGG.csv\n",
            "GSE20181.csv  GSE32646.csv  GSE5122.csv   TARGET10.csv\t\t  TCGA_UC.csv\n",
            "GSE20194.csv  GSE37946.csv  GSE55145.csv  TARGET20Busulfan.csv\n",
            "GSE20271.csv  GSE39754.csv  GSE59515.csv  TARGET20NoBusulfan.csv\n",
            "GSE22358.csv  GSE41998.csv  GSE68871.csv  TARGET50.csv\n",
            "GSE23988.csv  GSE42822.csv  GSE76360.csv  TCGA_LC.csv\n"
          ],
          "name": "stdout"
        }
      ]
    },
    {
      "cell_type": "markdown",
      "metadata": {
        "id": "Jhw3DJWMQN5b"
      },
      "source": [
        "Посмотрим на работу алгоритма поиска core marker genes на примере датасета GSE20181:"
      ]
    },
    {
      "cell_type": "code",
      "metadata": {
        "colab": {
          "base_uri": "https://localhost:8080/",
          "height": 263
        },
        "id": "DZcecQHeNsjD",
        "outputId": "3c2ac484-7099-4bc1-d8de-24cf16b38d44"
      },
      "source": [
        "df = pd.read_csv('/content/drive/My Drive/FlowPS/change_data/GSE20181.csv')\n",
        "df.tail()"
      ],
      "execution_count": null,
      "outputs": [
        {
          "output_type": "execute_result",
          "data": {
            "text/html": [
              "<div>\n",
              "<style scoped>\n",
              "    .dataframe tbody tr th:only-of-type {\n",
              "        vertical-align: middle;\n",
              "    }\n",
              "\n",
              "    .dataframe tbody tr th {\n",
              "        vertical-align: top;\n",
              "    }\n",
              "\n",
              "    .dataframe thead th {\n",
              "        text-align: right;\n",
              "    }\n",
              "</style>\n",
              "<table border=\"1\" class=\"dataframe\">\n",
              "  <thead>\n",
              "    <tr style=\"text-align: right;\">\n",
              "      <th></th>\n",
              "      <th>Sample ID</th>\n",
              "      <th>Binary response</th>\n",
              "      <th>A1CF</th>\n",
              "      <th>A2M</th>\n",
              "      <th>A4GALT</th>\n",
              "      <th>A4GNT</th>\n",
              "      <th>AAAS</th>\n",
              "      <th>AACS</th>\n",
              "      <th>AADAC</th>\n",
              "      <th>AAGAB</th>\n",
              "      <th>AAK1</th>\n",
              "      <th>AAMDC</th>\n",
              "      <th>AAMP</th>\n",
              "      <th>AANAT</th>\n",
              "      <th>AAR2</th>\n",
              "      <th>AARS</th>\n",
              "      <th>AARSD1</th>\n",
              "      <th>AASDHPPT</th>\n",
              "      <th>AASS</th>\n",
              "      <th>AATF</th>\n",
              "      <th>AATK</th>\n",
              "      <th>ABAT</th>\n",
              "      <th>ABCA1</th>\n",
              "      <th>ABCA11P</th>\n",
              "      <th>ABCA12</th>\n",
              "      <th>ABCA2</th>\n",
              "      <th>ABCA3</th>\n",
              "      <th>ABCA4</th>\n",
              "      <th>ABCA5</th>\n",
              "      <th>ABCA6</th>\n",
              "      <th>ABCA7</th>\n",
              "      <th>ABCA8</th>\n",
              "      <th>ABCB1</th>\n",
              "      <th>ABCB11</th>\n",
              "      <th>ABCB4</th>\n",
              "      <th>ABCB6</th>\n",
              "      <th>ABCB7</th>\n",
              "      <th>ABCB8</th>\n",
              "      <th>ABCB9</th>\n",
              "      <th>ABCC1</th>\n",
              "      <th>...</th>\n",
              "      <th>ZNF835</th>\n",
              "      <th>ZNF839</th>\n",
              "      <th>ZNF84</th>\n",
              "      <th>ZNF85</th>\n",
              "      <th>ZNF862</th>\n",
              "      <th>ZNF91</th>\n",
              "      <th>ZNF93</th>\n",
              "      <th>ZNHIT1</th>\n",
              "      <th>ZNHIT2</th>\n",
              "      <th>ZNHIT3</th>\n",
              "      <th>ZNHIT6</th>\n",
              "      <th>ZNRD1ASP</th>\n",
              "      <th>ZNRF4</th>\n",
              "      <th>ZP2</th>\n",
              "      <th>ZP3</th>\n",
              "      <th>ZPBP</th>\n",
              "      <th>ZPR1</th>\n",
              "      <th>ZRSR2</th>\n",
              "      <th>ZRSR2P1</th>\n",
              "      <th>ZSCAN12</th>\n",
              "      <th>ZSCAN16</th>\n",
              "      <th>ZSCAN18</th>\n",
              "      <th>ZSCAN2</th>\n",
              "      <th>ZSCAN26</th>\n",
              "      <th>ZSCAN31</th>\n",
              "      <th>ZSCAN32</th>\n",
              "      <th>ZSCAN5A</th>\n",
              "      <th>ZSCAN9</th>\n",
              "      <th>ZSWIM1</th>\n",
              "      <th>ZSWIM8</th>\n",
              "      <th>ZSWIM8-AS1</th>\n",
              "      <th>ZW10</th>\n",
              "      <th>ZWILCH</th>\n",
              "      <th>ZWINT</th>\n",
              "      <th>ZXDA</th>\n",
              "      <th>ZXDB</th>\n",
              "      <th>ZXDC</th>\n",
              "      <th>ZYX</th>\n",
              "      <th>ZZEF1</th>\n",
              "      <th>ZZZ3</th>\n",
              "    </tr>\n",
              "  </thead>\n",
              "  <tbody>\n",
              "    <tr>\n",
              "      <th>47</th>\n",
              "      <td>48</td>\n",
              "      <td>100</td>\n",
              "      <td>159.745186</td>\n",
              "      <td>559.742486</td>\n",
              "      <td>45.721309</td>\n",
              "      <td>97.223123</td>\n",
              "      <td>66.038053</td>\n",
              "      <td>612.827244</td>\n",
              "      <td>10.884616</td>\n",
              "      <td>46.659486</td>\n",
              "      <td>49.382559</td>\n",
              "      <td>97.814768</td>\n",
              "      <td>273.683995</td>\n",
              "      <td>12.922660</td>\n",
              "      <td>363.800263</td>\n",
              "      <td>600.884191</td>\n",
              "      <td>256.553247</td>\n",
              "      <td>209.938000</td>\n",
              "      <td>5.079213</td>\n",
              "      <td>242.511283</td>\n",
              "      <td>279.201143</td>\n",
              "      <td>281.417194</td>\n",
              "      <td>103.498446</td>\n",
              "      <td>72.618170</td>\n",
              "      <td>51.790919</td>\n",
              "      <td>25.401141</td>\n",
              "      <td>872.719875</td>\n",
              "      <td>60.056364</td>\n",
              "      <td>94.003876</td>\n",
              "      <td>6.101652</td>\n",
              "      <td>146.849113</td>\n",
              "      <td>3.712725</td>\n",
              "      <td>21.977797</td>\n",
              "      <td>14.363940</td>\n",
              "      <td>13.379061</td>\n",
              "      <td>46.514847</td>\n",
              "      <td>156.493559</td>\n",
              "      <td>28.693694</td>\n",
              "      <td>26.332883</td>\n",
              "      <td>79.122014</td>\n",
              "      <td>...</td>\n",
              "      <td>7.642583</td>\n",
              "      <td>123.953406</td>\n",
              "      <td>76.079999</td>\n",
              "      <td>210.251977</td>\n",
              "      <td>36.483695</td>\n",
              "      <td>143.367579</td>\n",
              "      <td>109.401922</td>\n",
              "      <td>517.070846</td>\n",
              "      <td>88.598633</td>\n",
              "      <td>327.918791</td>\n",
              "      <td>128.647925</td>\n",
              "      <td>113.990561</td>\n",
              "      <td>92.214969</td>\n",
              "      <td>7.070247</td>\n",
              "      <td>88.820244</td>\n",
              "      <td>83.949529</td>\n",
              "      <td>153.394960</td>\n",
              "      <td>267.681554</td>\n",
              "      <td>4.742141</td>\n",
              "      <td>13.055714</td>\n",
              "      <td>163.875173</td>\n",
              "      <td>70.539256</td>\n",
              "      <td>12.398714</td>\n",
              "      <td>98.140851</td>\n",
              "      <td>106.538563</td>\n",
              "      <td>124.298361</td>\n",
              "      <td>92.214969</td>\n",
              "      <td>98.223569</td>\n",
              "      <td>35.875569</td>\n",
              "      <td>36.771933</td>\n",
              "      <td>63.621987</td>\n",
              "      <td>205.416134</td>\n",
              "      <td>5.494678</td>\n",
              "      <td>431.953768</td>\n",
              "      <td>15.235929</td>\n",
              "      <td>13.412972</td>\n",
              "      <td>122.214249</td>\n",
              "      <td>190.783192</td>\n",
              "      <td>39.014291</td>\n",
              "      <td>415.800798</td>\n",
              "    </tr>\n",
              "    <tr>\n",
              "      <th>48</th>\n",
              "      <td>49</td>\n",
              "      <td>100</td>\n",
              "      <td>829.517515</td>\n",
              "      <td>1609.632889</td>\n",
              "      <td>24.184723</td>\n",
              "      <td>126.986531</td>\n",
              "      <td>16.391632</td>\n",
              "      <td>260.127053</td>\n",
              "      <td>18.260505</td>\n",
              "      <td>22.901147</td>\n",
              "      <td>77.234377</td>\n",
              "      <td>67.365105</td>\n",
              "      <td>238.852339</td>\n",
              "      <td>5.879799</td>\n",
              "      <td>301.030396</td>\n",
              "      <td>1369.488995</td>\n",
              "      <td>172.603326</td>\n",
              "      <td>124.492993</td>\n",
              "      <td>3.169642</td>\n",
              "      <td>296.505089</td>\n",
              "      <td>305.128818</td>\n",
              "      <td>70.674579</td>\n",
              "      <td>196.632406</td>\n",
              "      <td>110.996425</td>\n",
              "      <td>101.559836</td>\n",
              "      <td>42.623990</td>\n",
              "      <td>32.343677</td>\n",
              "      <td>48.274935</td>\n",
              "      <td>100.573299</td>\n",
              "      <td>26.189418</td>\n",
              "      <td>165.162462</td>\n",
              "      <td>98.830779</td>\n",
              "      <td>34.507981</td>\n",
              "      <td>16.734401</td>\n",
              "      <td>13.342149</td>\n",
              "      <td>41.690496</td>\n",
              "      <td>25.014169</td>\n",
              "      <td>25.181767</td>\n",
              "      <td>46.966908</td>\n",
              "      <td>53.452088</td>\n",
              "      <td>...</td>\n",
              "      <td>6.885567</td>\n",
              "      <td>230.857574</td>\n",
              "      <td>61.801804</td>\n",
              "      <td>374.403888</td>\n",
              "      <td>89.315504</td>\n",
              "      <td>253.716272</td>\n",
              "      <td>52.229478</td>\n",
              "      <td>54.222977</td>\n",
              "      <td>20.742559</td>\n",
              "      <td>376.841240</td>\n",
              "      <td>130.714578</td>\n",
              "      <td>285.510673</td>\n",
              "      <td>179.036080</td>\n",
              "      <td>7.328193</td>\n",
              "      <td>19.809914</td>\n",
              "      <td>154.800178</td>\n",
              "      <td>142.226192</td>\n",
              "      <td>409.780355</td>\n",
              "      <td>5.778570</td>\n",
              "      <td>19.167175</td>\n",
              "      <td>93.572277</td>\n",
              "      <td>42.257707</td>\n",
              "      <td>7.718934</td>\n",
              "      <td>9.585303</td>\n",
              "      <td>64.203926</td>\n",
              "      <td>109.610859</td>\n",
              "      <td>144.452615</td>\n",
              "      <td>377.353160</td>\n",
              "      <td>140.289628</td>\n",
              "      <td>32.311490</td>\n",
              "      <td>269.615766</td>\n",
              "      <td>242.547441</td>\n",
              "      <td>13.135400</td>\n",
              "      <td>972.162944</td>\n",
              "      <td>37.184689</td>\n",
              "      <td>42.166478</td>\n",
              "      <td>41.348141</td>\n",
              "      <td>87.135149</td>\n",
              "      <td>20.346048</td>\n",
              "      <td>345.703453</td>\n",
              "    </tr>\n",
              "    <tr>\n",
              "      <th>49</th>\n",
              "      <td>50</td>\n",
              "      <td>100</td>\n",
              "      <td>208.440393</td>\n",
              "      <td>1613.350941</td>\n",
              "      <td>24.269641</td>\n",
              "      <td>75.805620</td>\n",
              "      <td>9.407050</td>\n",
              "      <td>341.638940</td>\n",
              "      <td>11.211331</td>\n",
              "      <td>35.504283</td>\n",
              "      <td>59.562700</td>\n",
              "      <td>61.321007</td>\n",
              "      <td>356.048180</td>\n",
              "      <td>8.634132</td>\n",
              "      <td>267.080567</td>\n",
              "      <td>431.190844</td>\n",
              "      <td>65.149035</td>\n",
              "      <td>328.474487</td>\n",
              "      <td>8.475349</td>\n",
              "      <td>225.336461</td>\n",
              "      <td>146.940948</td>\n",
              "      <td>163.474649</td>\n",
              "      <td>236.953126</td>\n",
              "      <td>69.619155</td>\n",
              "      <td>28.449481</td>\n",
              "      <td>24.585010</td>\n",
              "      <td>69.400823</td>\n",
              "      <td>42.291324</td>\n",
              "      <td>102.890125</td>\n",
              "      <td>47.164434</td>\n",
              "      <td>75.805620</td>\n",
              "      <td>630.941003</td>\n",
              "      <td>77.804213</td>\n",
              "      <td>17.264018</td>\n",
              "      <td>22.659177</td>\n",
              "      <td>30.891972</td>\n",
              "      <td>106.428585</td>\n",
              "      <td>17.324333</td>\n",
              "      <td>27.080387</td>\n",
              "      <td>54.426771</td>\n",
              "      <td>...</td>\n",
              "      <td>6.251064</td>\n",
              "      <td>108.282512</td>\n",
              "      <td>112.628031</td>\n",
              "      <td>294.151199</td>\n",
              "      <td>49.250447</td>\n",
              "      <td>267.357854</td>\n",
              "      <td>90.283109</td>\n",
              "      <td>388.805245</td>\n",
              "      <td>29.426296</td>\n",
              "      <td>245.198282</td>\n",
              "      <td>214.774380</td>\n",
              "      <td>200.775278</td>\n",
              "      <td>70.219294</td>\n",
              "      <td>20.175694</td>\n",
              "      <td>222.267131</td>\n",
              "      <td>58.585503</td>\n",
              "      <td>83.932229</td>\n",
              "      <td>310.637130</td>\n",
              "      <td>9.989120</td>\n",
              "      <td>23.500353</td>\n",
              "      <td>123.409362</td>\n",
              "      <td>99.196114</td>\n",
              "      <td>8.853852</td>\n",
              "      <td>141.022165</td>\n",
              "      <td>104.980038</td>\n",
              "      <td>110.281473</td>\n",
              "      <td>68.398886</td>\n",
              "      <td>170.037697</td>\n",
              "      <td>78.822136</td>\n",
              "      <td>36.843130</td>\n",
              "      <td>28.319523</td>\n",
              "      <td>255.952243</td>\n",
              "      <td>6.570268</td>\n",
              "      <td>576.470655</td>\n",
              "      <td>18.189719</td>\n",
              "      <td>22.421760</td>\n",
              "      <td>172.846097</td>\n",
              "      <td>256.274129</td>\n",
              "      <td>28.760924</td>\n",
              "      <td>445.820694</td>\n",
              "    </tr>\n",
              "    <tr>\n",
              "      <th>50</th>\n",
              "      <td>51</td>\n",
              "      <td>100</td>\n",
              "      <td>458.914621</td>\n",
              "      <td>1598.074389</td>\n",
              "      <td>41.811811</td>\n",
              "      <td>96.298337</td>\n",
              "      <td>11.855324</td>\n",
              "      <td>220.719409</td>\n",
              "      <td>18.971395</td>\n",
              "      <td>13.600509</td>\n",
              "      <td>49.897787</td>\n",
              "      <td>79.000311</td>\n",
              "      <td>344.494653</td>\n",
              "      <td>8.615376</td>\n",
              "      <td>339.525525</td>\n",
              "      <td>800.770239</td>\n",
              "      <td>105.718531</td>\n",
              "      <td>348.706540</td>\n",
              "      <td>5.909676</td>\n",
              "      <td>148.653904</td>\n",
              "      <td>109.248994</td>\n",
              "      <td>96.820715</td>\n",
              "      <td>231.352668</td>\n",
              "      <td>132.347101</td>\n",
              "      <td>53.489251</td>\n",
              "      <td>30.410094</td>\n",
              "      <td>122.182169</td>\n",
              "      <td>22.955542</td>\n",
              "      <td>92.387294</td>\n",
              "      <td>12.545439</td>\n",
              "      <td>131.100108</td>\n",
              "      <td>49.729984</td>\n",
              "      <td>83.623258</td>\n",
              "      <td>19.126796</td>\n",
              "      <td>26.473716</td>\n",
              "      <td>22.743999</td>\n",
              "      <td>52.334012</td>\n",
              "      <td>31.002643</td>\n",
              "      <td>68.330490</td>\n",
              "      <td>45.617079</td>\n",
              "      <td>...</td>\n",
              "      <td>8.355255</td>\n",
              "      <td>104.519763</td>\n",
              "      <td>114.977267</td>\n",
              "      <td>320.516224</td>\n",
              "      <td>79.273476</td>\n",
              "      <td>374.403888</td>\n",
              "      <td>74.239719</td>\n",
              "      <td>155.975535</td>\n",
              "      <td>17.223150</td>\n",
              "      <td>348.853930</td>\n",
              "      <td>103.415794</td>\n",
              "      <td>280.952916</td>\n",
              "      <td>104.989389</td>\n",
              "      <td>31.214010</td>\n",
              "      <td>19.791510</td>\n",
              "      <td>141.795226</td>\n",
              "      <td>63.792499</td>\n",
              "      <td>297.477729</td>\n",
              "      <td>8.111957</td>\n",
              "      <td>11.472402</td>\n",
              "      <td>159.582730</td>\n",
              "      <td>60.401089</td>\n",
              "      <td>11.111723</td>\n",
              "      <td>61.932313</td>\n",
              "      <td>47.546621</td>\n",
              "      <td>169.891932</td>\n",
              "      <td>114.126727</td>\n",
              "      <td>87.913487</td>\n",
              "      <td>117.139792</td>\n",
              "      <td>25.272285</td>\n",
              "      <td>88.331377</td>\n",
              "      <td>302.997383</td>\n",
              "      <td>13.757607</td>\n",
              "      <td>1204.000648</td>\n",
              "      <td>28.020282</td>\n",
              "      <td>38.789651</td>\n",
              "      <td>40.850153</td>\n",
              "      <td>104.423961</td>\n",
              "      <td>14.517178</td>\n",
              "      <td>383.986309</td>\n",
              "    </tr>\n",
              "    <tr>\n",
              "      <th>51</th>\n",
              "      <td>52</td>\n",
              "      <td>100</td>\n",
              "      <td>120.039446</td>\n",
              "      <td>692.579163</td>\n",
              "      <td>69.149450</td>\n",
              "      <td>75.404653</td>\n",
              "      <td>23.158304</td>\n",
              "      <td>366.241145</td>\n",
              "      <td>26.527400</td>\n",
              "      <td>84.648765</td>\n",
              "      <td>53.649245</td>\n",
              "      <td>117.447101</td>\n",
              "      <td>328.291288</td>\n",
              "      <td>7.736591</td>\n",
              "      <td>262.273890</td>\n",
              "      <td>679.910383</td>\n",
              "      <td>247.321906</td>\n",
              "      <td>229.600224</td>\n",
              "      <td>27.416014</td>\n",
              "      <td>211.897043</td>\n",
              "      <td>115.166684</td>\n",
              "      <td>194.720969</td>\n",
              "      <td>149.929863</td>\n",
              "      <td>81.516500</td>\n",
              "      <td>5.975271</td>\n",
              "      <td>34.136412</td>\n",
              "      <td>289.273915</td>\n",
              "      <td>46.225490</td>\n",
              "      <td>68.275846</td>\n",
              "      <td>7.178536</td>\n",
              "      <td>127.960816</td>\n",
              "      <td>77.603649</td>\n",
              "      <td>33.550768</td>\n",
              "      <td>16.089298</td>\n",
              "      <td>13.366180</td>\n",
              "      <td>51.405034</td>\n",
              "      <td>85.469731</td>\n",
              "      <td>28.652348</td>\n",
              "      <td>78.564834</td>\n",
              "      <td>124.041177</td>\n",
              "      <td>...</td>\n",
              "      <td>6.586748</td>\n",
              "      <td>151.660191</td>\n",
              "      <td>151.613229</td>\n",
              "      <td>146.287039</td>\n",
              "      <td>31.317138</td>\n",
              "      <td>389.574435</td>\n",
              "      <td>35.958170</td>\n",
              "      <td>357.372308</td>\n",
              "      <td>32.672970</td>\n",
              "      <td>343.874842</td>\n",
              "      <td>161.381342</td>\n",
              "      <td>110.638198</td>\n",
              "      <td>120.154340</td>\n",
              "      <td>16.704010</td>\n",
              "      <td>174.742385</td>\n",
              "      <td>14.786744</td>\n",
              "      <td>85.978400</td>\n",
              "      <td>275.392066</td>\n",
              "      <td>5.682126</td>\n",
              "      <td>14.038307</td>\n",
              "      <td>255.237675</td>\n",
              "      <td>206.507434</td>\n",
              "      <td>27.581192</td>\n",
              "      <td>74.807369</td>\n",
              "      <td>94.148669</td>\n",
              "      <td>122.987946</td>\n",
              "      <td>85.240122</td>\n",
              "      <td>130.460723</td>\n",
              "      <td>75.404653</td>\n",
              "      <td>40.359964</td>\n",
              "      <td>63.697297</td>\n",
              "      <td>192.790218</td>\n",
              "      <td>14.786744</td>\n",
              "      <td>563.005224</td>\n",
              "      <td>19.915427</td>\n",
              "      <td>22.474228</td>\n",
              "      <td>174.677069</td>\n",
              "      <td>261.889474</td>\n",
              "      <td>46.627102</td>\n",
              "      <td>306.274699</td>\n",
              "    </tr>\n",
              "  </tbody>\n",
              "</table>\n",
              "<p>5 rows × 13547 columns</p>\n",
              "</div>"
            ],
            "text/plain": [
              "    Sample ID  Binary response        A1CF  ...         ZYX      ZZEF1        ZZZ3\n",
              "47         48              100  159.745186  ...  190.783192  39.014291  415.800798\n",
              "48         49              100  829.517515  ...   87.135149  20.346048  345.703453\n",
              "49         50              100  208.440393  ...  256.274129  28.760924  445.820694\n",
              "50         51              100  458.914621  ...  104.423961  14.517178  383.986309\n",
              "51         52              100  120.039446  ...  261.889474  46.627102  306.274699\n",
              "\n",
              "[5 rows x 13547 columns]"
            ]
          },
          "metadata": {
            "tags": []
          },
          "execution_count": 4
        }
      ]
    },
    {
      "cell_type": "code",
      "metadata": {
        "colab": {
          "base_uri": "https://localhost:8080/"
        },
        "id": "tN2XpedSxfTu",
        "outputId": "164fb7e9-1148-4962-c6a5-63560250223d"
      },
      "source": [
        "df.shape"
      ],
      "execution_count": null,
      "outputs": [
        {
          "output_type": "execute_result",
          "data": {
            "text/plain": [
              "(52, 13547)"
            ]
          },
          "metadata": {
            "tags": []
          },
          "execution_count": 32
        }
      ]
    },
    {
      "cell_type": "markdown",
      "metadata": {
        "id": "zMhUGeB6P-zk"
      },
      "source": [
        "Разбиваем данные на признаки и таргет:"
      ]
    },
    {
      "cell_type": "code",
      "metadata": {
        "id": "8rZ5muGvOFsD"
      },
      "source": [
        "X = df.drop(['Sample ID', 'Binary response'], axis=1)\n",
        "#X = X.iloc[:, :100]\n",
        "\n",
        "y = df['Binary response']"
      ],
      "execution_count": null,
      "outputs": []
    },
    {
      "cell_type": "markdown",
      "metadata": {
        "id": "QKDI1MeaQRqu"
      },
      "source": [
        "Запускаем гланый цикл кросс-валидации с перебором всех признаков для каждого объекта датасета(на примере 3 наблюдений):"
      ]
    },
    {
      "cell_type": "code",
      "metadata": {
        "colab": {
          "base_uri": "https://localhost:8080/"
        },
        "id": "9d-ZBPGWOFu1",
        "outputId": "55865f07-5a94-4222-b56a-76e7a9fab0ed"
      },
      "source": [
        "from tqdm import tqdm\n",
        "\n",
        "final = []\n",
        "for i in tqdm(range(3)):\n",
        "  res = []\n",
        "  X2 = X.drop([i])\n",
        "  y2 = y.drop([i])\n",
        "\n",
        "  for j in range(len(X2)):\n",
        "    roc_auc_list = []\n",
        "    if i != j:\n",
        "      X3 = X2.drop(j)\n",
        "      y3 = y2.drop(j)\n",
        "\n",
        "      for num, k in enumerate(range(X3.shape[1])):\n",
        "\n",
        "        X_train = X3.iloc[:, k]\n",
        "        X_train_new = X_train.values.reshape(-1, 1)\n",
        "          \n",
        "        roc_auc = roc_auc_score(y3, X_train_new)   \n",
        "        roc_auc_list.append((num, roc_auc)) \n",
        "      \n",
        "      res.append(roc_auc_list)\n",
        "\n",
        "  final.append(res)"
      ],
      "execution_count": null,
      "outputs": [
        {
          "output_type": "stream",
          "text": [
            "\n",
            "\n",
            "\n",
            "  0%|          | 0/3 [00:00<?, ?it/s]\u001b[A\u001b[A\u001b[A\n",
            "\n",
            "\n",
            " 33%|███▎      | 1/3 [11:32<23:04, 692.22s/it]\u001b[A\u001b[A\u001b[A\n",
            "\n",
            "\n",
            " 67%|██████▋   | 2/3 [23:04<11:32, 692.38s/it]\u001b[A\u001b[A\u001b[A\n",
            "\n",
            "\n",
            "100%|██████████| 3/3 [34:39<00:00, 693.04s/it]\n"
          ],
          "name": "stderr"
        }
      ]
    },
    {
      "cell_type": "code",
      "metadata": {
        "colab": {
          "base_uri": "https://localhost:8080/"
        },
        "id": "pIXasULgjbWN",
        "outputId": "43cea6c8-803e-468c-e302-3548c131368c"
      },
      "source": [
        "len(final)"
      ],
      "execution_count": null,
      "outputs": [
        {
          "output_type": "execute_result",
          "data": {
            "text/plain": [
              "3"
            ]
          },
          "metadata": {
            "tags": []
          },
          "execution_count": 96
        }
      ]
    },
    {
      "cell_type": "markdown",
      "metadata": {
        "id": "A9W-yb6AmTZO"
      },
      "source": [
        "Сохраняем все рок_аук для каждого объекта в файл pickle:"
      ]
    },
    {
      "cell_type": "code",
      "metadata": {
        "id": "183967In_Zef"
      },
      "source": [
        "import pickle\n",
        "\n",
        "with open('/content/drive/My Drive/FlowPS/features_GSE20181.pickle', 'wb') as f:\n",
        "    pickle.dump(final, f)\n",
        "\n",
        "#with open('data.pickle', 'rb') as f:\n",
        "#    data_new = pickle.load(f)"
      ],
      "execution_count": null,
      "outputs": []
    },
    {
      "cell_type": "markdown",
      "metadata": {
        "id": "RdZmzWntRyIp"
      },
      "source": [
        "Отсортируем для каждого датасета без i-го и j-го объекта все признаки по значению roc_auc и выберем TOP 30:"
      ]
    },
    {
      "cell_type": "code",
      "metadata": {
        "id": "AghFobViRbW1"
      },
      "source": [
        "array = []\n",
        "for i in range(len(final)):\n",
        "  arr = []\n",
        "  for j in range(len(final[i])):\n",
        "    temp = sorted(final[i][j], key=lambda x: (x[1]), reverse=True)\n",
        "    arr.append(temp[:30])\n",
        "  array.append(arr)"
      ],
      "execution_count": null,
      "outputs": []
    },
    {
      "cell_type": "markdown",
      "metadata": {
        "id": "U01LIapGSKPY"
      },
      "source": [
        "Оставим только номера значимых признаков:"
      ]
    },
    {
      "cell_type": "code",
      "metadata": {
        "id": "9ow4YFgVRbi1"
      },
      "source": [
        "mass = []\n",
        "for i in range(len(array)):\n",
        "  mass1 = []\n",
        "  for j in range(len(array[i])):\n",
        "    mass2 = []\n",
        "    for k in range(len(array[i][j])):\n",
        "      mass2.append(array[i][j][k][0])\n",
        "\n",
        "    mass1.append(mass2)\n",
        "\n",
        "  mass.append(mass1)"
      ],
      "execution_count": null,
      "outputs": []
    },
    {
      "cell_type": "code",
      "metadata": {
        "id": "WPkJJfMWk4IV"
      },
      "source": [
        "#mass[0]"
      ],
      "execution_count": null,
      "outputs": []
    },
    {
      "cell_type": "markdown",
      "metadata": {
        "id": "I4MwGKhcSh4n"
      },
      "source": [
        "Посмотрим на пересечение всех значимых признаков для каждого i и тем самым получим N наборов core marker features для каждого образца:"
      ]
    },
    {
      "cell_type": "code",
      "metadata": {
        "id": "vFyZ4vT7RbmJ"
      },
      "source": [
        "core_marker = []\n",
        "for i in range(len(mass)):\n",
        "  temp = list(set.intersection(*map(set, mass[i])))\n",
        "  core_marker.append(temp)"
      ],
      "execution_count": null,
      "outputs": []
    },
    {
      "cell_type": "code",
      "metadata": {
        "colab": {
          "base_uri": "https://localhost:8080/"
        },
        "id": "6pP1iL1SRbpH",
        "outputId": "7328468f-92a9-4860-f38f-d941b6d46d63"
      },
      "source": [
        "print(len(core_marker))\n",
        "core_marker"
      ],
      "execution_count": null,
      "outputs": [
        {
          "output_type": "stream",
          "text": [
            "3\n"
          ],
          "name": "stdout"
        },
        {
          "output_type": "execute_result",
          "data": {
            "text/plain": [
              "[[2342, 5548, 8401, 4019, 1876, 4341, 8438, 8825, 7677],\n",
              " [640, 1344, 2342, 1512, 5548, 8401, 4019, 1876, 8438],\n",
              " [640, 1344, 2342, 5548, 4401, 8401, 4019, 1876, 8438]]"
            ]
          },
          "metadata": {
            "tags": []
          },
          "execution_count": 125
        }
      ]
    },
    {
      "cell_type": "code",
      "metadata": {
        "id": "0EZZcvsYRbu9"
      },
      "source": [
        ""
      ],
      "execution_count": null,
      "outputs": []
    },
    {
      "cell_type": "code",
      "metadata": {
        "id": "dVCyyeNDRbyF"
      },
      "source": [
        ""
      ],
      "execution_count": null,
      "outputs": []
    },
    {
      "cell_type": "code",
      "metadata": {
        "id": "mUQXJPOlOFxv"
      },
      "source": [
        ""
      ],
      "execution_count": null,
      "outputs": []
    }
  ]
}